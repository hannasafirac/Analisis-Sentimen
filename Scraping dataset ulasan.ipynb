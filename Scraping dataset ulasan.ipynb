{
 "cells": [
  {
   "cell_type": "markdown",
   "id": "047c522f",
   "metadata": {},
   "source": [
    "## **1. Import Modul**"
   ]
  },
  {
   "cell_type": "code",
   "execution_count": 1,
   "id": "10c380cd",
   "metadata": {},
   "outputs": [],
   "source": [
    "import pandas as pd  \n",
    "import time\n",
    "\n",
    "from google_play_scraper import app, Sort, reviews"
   ]
  },
  {
   "cell_type": "markdown",
   "id": "7850b938",
   "metadata": {},
   "source": [
    "## **2. Data**"
   ]
  },
  {
   "cell_type": "markdown",
   "id": "cfcc8e3b",
   "metadata": {},
   "source": [
    "### Scraping data ulasan aplikasi Google Lens"
   ]
  },
  {
   "cell_type": "code",
   "execution_count": 2,
   "id": "2eaaa2a0",
   "metadata": {},
   "outputs": [],
   "source": [
    "def scrape_reviews(count):\n",
    "    app_id = 'com.google.ar.lens'\n",
    "    country = 'id'  \n",
    "    language = 'id'  \n",
    "    \n",
    "    print(f\"Memulai scraping ulasan\")\n",
    "    \n",
    "    all_reviews = []\n",
    "    continuation_token = None\n",
    "    batch_size = 1000  # Jumlah ulasan per request\n",
    "    \n",
    "    # Fungsi untuk memproses ulasan\n",
    "    def process_reviews(reviews):\n",
    "        processed = []\n",
    "        for r in reviews:\n",
    "            processed.append({\n",
    "                'review_id': r['reviewId'],\n",
    "                'username': r['userName'],\n",
    "                'rating': r['score'],\n",
    "                'date': r['at'].strftime('%Y-%m-%d %H:%M:%S'),\n",
    "                'content': r['content']\n",
    "            })\n",
    "        return processed\n",
    "    \n",
    "    while len(all_reviews) < count:\n",
    "        try:\n",
    "            # Mengambil ulasan\n",
    "            result, continuation_token = reviews(\n",
    "                app_id,\n",
    "                lang=language,\n",
    "                country=country,\n",
    "                sort=Sort.MOST_RELEVANT,\n",
    "                count=batch_size,\n",
    "                continuation_token=continuation_token\n",
    "            )\n",
    "            \n",
    "            # Memproses ulasan\n",
    "            batch_processed = process_reviews(result)\n",
    "            all_reviews.extend(batch_processed)\n",
    "            \n",
    "            print(f\"Berhasil mengambil {len(batch_processed)} ulasan. Total: {len(all_reviews)}\")\n",
    "            \n",
    "            # Jika tidak ada token lanjutan, hentikan loop\n",
    "            if continuation_token is None:\n",
    "                print(\"Tidak ada ulasan lagi yang tersedia.\")\n",
    "                break\n",
    "                \n",
    "            # Jeda untuk menghindari rate limiting\n",
    "            time.sleep(3)\n",
    "            \n",
    "        except Exception as e:\n",
    "            print(f\"Error: {str(e)}\")\n",
    "            print(\"Menunggu 10 detik sebelum mencoba lagi.\")\n",
    "            time.sleep(10)\n",
    "    \n",
    "    # Membuat DataFrame\n",
    "    df = pd.DataFrame(all_reviews)\n",
    "    \n",
    "    print(f\"\\nScraping selesai! Total ulasan yang didapat: {len(df)}\")\n",
    "    \n",
    "    return df"
   ]
  },
  {
   "cell_type": "code",
   "execution_count": null,
   "id": "3cad828f",
   "metadata": {},
   "outputs": [
    {
     "name": "stdout",
     "output_type": "stream",
     "text": [
      "Memulai scraping ulasan\n",
      "Berhasil mengambil 1000 ulasan. Total: 1000\n",
      "Berhasil mengambil 1000 ulasan. Total: 2000\n",
      "Berhasil mengambil 1000 ulasan. Total: 3000\n",
      "Berhasil mengambil 1000 ulasan. Total: 4000\n",
      "Berhasil mengambil 1000 ulasan. Total: 5000\n",
      "Berhasil mengambil 1000 ulasan. Total: 6000\n",
      "Berhasil mengambil 1000 ulasan. Total: 7000\n",
      "Berhasil mengambil 1000 ulasan. Total: 8000\n",
      "Berhasil mengambil 1000 ulasan. Total: 9000\n",
      "Berhasil mengambil 1000 ulasan. Total: 10000\n",
      "Berhasil mengambil 1000 ulasan. Total: 11000\n",
      "Berhasil mengambil 1000 ulasan. Total: 12000\n",
      "Berhasil mengambil 1000 ulasan. Total: 13000\n",
      "\n",
      "Scraping selesai! Total ulasan yang didapat: 13000\n"
     ]
    }
   ],
   "source": [
    "reviews_df = scrape_reviews(count=13000)"
   ]
  },
  {
   "cell_type": "code",
   "execution_count": 4,
   "id": "8ae9a30e",
   "metadata": {},
   "outputs": [
    {
     "data": {
      "text/html": [
       "<div>\n",
       "<style scoped>\n",
       "    .dataframe tbody tr th:only-of-type {\n",
       "        vertical-align: middle;\n",
       "    }\n",
       "\n",
       "    .dataframe tbody tr th {\n",
       "        vertical-align: top;\n",
       "    }\n",
       "\n",
       "    .dataframe thead th {\n",
       "        text-align: right;\n",
       "    }\n",
       "</style>\n",
       "<table border=\"1\" class=\"dataframe\">\n",
       "  <thead>\n",
       "    <tr style=\"text-align: right;\">\n",
       "      <th></th>\n",
       "      <th>review_id</th>\n",
       "      <th>username</th>\n",
       "      <th>rating</th>\n",
       "      <th>date</th>\n",
       "      <th>content</th>\n",
       "    </tr>\n",
       "  </thead>\n",
       "  <tbody>\n",
       "    <tr>\n",
       "      <th>0</th>\n",
       "      <td>3a17e409-3930-45e5-807b-92c00c94885b</td>\n",
       "      <td>Rdani Hidayat</td>\n",
       "      <td>1</td>\n",
       "      <td>2024-12-12 21:00:03</td>\n",
       "      <td>Makin di update makin jelek, banyak fitur bagu...</td>\n",
       "    </tr>\n",
       "    <tr>\n",
       "      <th>1</th>\n",
       "      <td>f20e5384-0688-4a72-b243-2d0eb709b7b2</td>\n",
       "      <td>Trafalgar D Water Law</td>\n",
       "      <td>5</td>\n",
       "      <td>2020-12-29 17:34:13</td>\n",
       "      <td>Banyak membantu langsung mengenali apa yang ma...</td>\n",
       "    </tr>\n",
       "    <tr>\n",
       "      <th>2</th>\n",
       "      <td>6e0f2d38-ceb5-4ba1-a6b4-11f60468b656</td>\n",
       "      <td>HERMAWAN. PS</td>\n",
       "      <td>5</td>\n",
       "      <td>2021-11-20 07:53:02</td>\n",
       "      <td>Bisa menterjemahkan foto (langsung dari kamera...</td>\n",
       "    </tr>\n",
       "    <tr>\n",
       "      <th>3</th>\n",
       "      <td>51d8da31-e2f8-45a8-852f-e39fd89da951</td>\n",
       "      <td>Irlangga Marlan</td>\n",
       "      <td>2</td>\n",
       "      <td>2023-12-25 23:41:44</td>\n",
       "      <td>Update sekrang sangat tidak memuaskan. Banyak ...</td>\n",
       "    </tr>\n",
       "    <tr>\n",
       "      <th>4</th>\n",
       "      <td>a8d87b61-6c64-48c0-b1a3-2f40d98985d8</td>\n",
       "      <td>Agus Surya</td>\n",
       "      <td>4</td>\n",
       "      <td>2025-03-12 16:27:20</td>\n",
       "      <td>Selalu mengandalkan aplikasi google lens untuk...</td>\n",
       "    </tr>\n",
       "  </tbody>\n",
       "</table>\n",
       "</div>"
      ],
      "text/plain": [
       "                              review_id               username  rating  \\\n",
       "0  3a17e409-3930-45e5-807b-92c00c94885b          Rdani Hidayat       1   \n",
       "1  f20e5384-0688-4a72-b243-2d0eb709b7b2  Trafalgar D Water Law       5   \n",
       "2  6e0f2d38-ceb5-4ba1-a6b4-11f60468b656           HERMAWAN. PS       5   \n",
       "3  51d8da31-e2f8-45a8-852f-e39fd89da951        Irlangga Marlan       2   \n",
       "4  a8d87b61-6c64-48c0-b1a3-2f40d98985d8             Agus Surya       4   \n",
       "\n",
       "                  date                                            content  \n",
       "0  2024-12-12 21:00:03  Makin di update makin jelek, banyak fitur bagu...  \n",
       "1  2020-12-29 17:34:13  Banyak membantu langsung mengenali apa yang ma...  \n",
       "2  2021-11-20 07:53:02  Bisa menterjemahkan foto (langsung dari kamera...  \n",
       "3  2023-12-25 23:41:44  Update sekrang sangat tidak memuaskan. Banyak ...  \n",
       "4  2025-03-12 16:27:20  Selalu mengandalkan aplikasi google lens untuk...  "
      ]
     },
     "execution_count": 4,
     "metadata": {},
     "output_type": "execute_result"
    }
   ],
   "source": [
    "reviews_df.head(5)"
   ]
  },
  {
   "cell_type": "code",
   "execution_count": 5,
   "id": "bf6c1611",
   "metadata": {},
   "outputs": [],
   "source": [
    "reviews_df.to_csv(\"Dataset scraping.csv\", index=False)"
   ]
  }
 ],
 "metadata": {
  "kernelspec": {
   "display_name": "Python 3",
   "language": "python",
   "name": "python3"
  },
  "language_info": {
   "codemirror_mode": {
    "name": "ipython",
    "version": 3
   },
   "file_extension": ".py",
   "mimetype": "text/x-python",
   "name": "python",
   "nbconvert_exporter": "python",
   "pygments_lexer": "ipython3",
   "version": "3.11.9"
  }
 },
 "nbformat": 4,
 "nbformat_minor": 5
}
